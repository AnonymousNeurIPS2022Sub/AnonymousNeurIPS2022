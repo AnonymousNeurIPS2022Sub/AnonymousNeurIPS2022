{
 "cells": [
  {
   "cell_type": "code",
   "execution_count": 159,
   "metadata": {},
   "outputs": [],
   "source": [
    "import os\n",
    "import time\n",
    "\n",
    "import einops as einops\n",
    "import numpy as np\n",
    "import torch\n",
    "import torch.nn as nn\n",
    "\n",
    "from Dynamics.Alanine import AlanineDynamics\n",
    "from plotting.Loggers import CostsLogger\n",
    "from solvers.PICE import PICE\n",
    "from policies.Poly import NNPolicy"
   ]
  },
  {
   "cell_type": "markdown",
   "metadata": {},
   "source": [
    "# Setup parameters"
   ]
  },
  {
   "cell_type": "code",
   "execution_count": null,
   "metadata": {},
   "outputs": [],
   "source": [
    "# logging folder creation\n",
    "\n",
    "def create_timed_folder(file):\n",
    "    timestr = time.strftime(\"%Y%m%d-%H%M%S\")\n",
    "    timed_file = f\"{file}/{timestr}\"\n",
    "    if not os.path.exists(timed_file):\n",
    "        os.makedirs(timed_file)\n",
    "    return timed_file\n",
    "\n",
    "# seed\n",
    "torch.manual_seed(42)\n",
    "\n",
    "# File setup\n",
    "file = \"./results/Alanine\"\n",
    "file = create_timed_folder(file)\n",
    "\n",
    "# Copy important files\n",
    "current_path = os.path.dirname(os.path.realpath(__file__))\n",
    "\n",
    "force = False # if false -> use energy\n",
    "bridge = False\n",
    "\n",
    "device = 'cuda'\n",
    "\n",
    "T = 5000.\n",
    "dt = torch.tensor(1.)\n",
    "n_steps = int(T / dt)\n",
    "\n",
    "n_rollouts = 10000\n",
    "n_samples = 16\n",
    "\n",
    "lr = 0.0001"
   ]
  },
  {
   "cell_type": "markdown",
   "metadata": {},
   "source": [
    "# Setup experiment environment and model"
   ]
  },
  {
   "cell_type": "code",
   "execution_count": 160,
   "metadata": {},
   "outputs": [],
   "source": [
    "\n",
    "environment = AlanineDynamics(loss_func='pairwise_dist', n_samples=n_samples, device=device, bridge=bridge, save_file=file)\n",
    "\n",
    "dims = environment.dims\n",
    "\n",
    "std = torch.tensor(.05).to(device)\n",
    "R = torch.eye(dims).to(device)\n",
    "\n",
    "logger = CostsLogger(f'{file}')\n",
    "\n",
    "nn_policy = NNPolicy(device, dims = dims, force=force, T=T, bridge=bridge)"
   ]
  },
  {
   "cell_type": "markdown",
   "metadata": {},
   "source": [
    "# Training"
   ]
  },
  {
   "cell_type": "code",
   "execution_count": null,
   "metadata": {},
   "outputs": [],
   "source": [
    "PICE(environment, nn_policy, n_rollouts, n_samples, n_steps, dt, std, dims * 2, R, logger, [], True, file, device=device, lr=lr)\n",
    "\n",
    "torch.save(nn_policy, f'{file}/final_policy')"
   ]
  },
  {
   "cell_type": "markdown",
   "metadata": {},
   "source": [
    "# Visualization"
   ]
  },
  {
   "cell_type": "code",
   "execution_count": null,
   "metadata": {},
   "outputs": [],
   "source": [
    "# save trajectory to pdbs\n",
    "name = 'force'\n",
    "new_traj = np.load(f'{file}/phi_paths.npy')\n",
    "new_traj = new_traj[:, :, :int(new_traj.shape[2]/2)]\n",
    "\n",
    "STEP=25 # draw every STEP steps\n",
    "N=16 # num of trajectories\n",
    "\n",
    "for i in range(N):\n",
    "    trajs = None\n",
    "    for j in range(0, int(new_traj.shape[1]), STEP):\n",
    "        traj = md.load_pdb('./potentials/files/AD_c7ax.pdb')\n",
    "        atoms = []\n",
    "        for index_atom in range(0, 138):\n",
    "            atom_location = new_traj[i, j, index_atom*3:index_atom*3+3]\n",
    "            atoms.append(atom_location)\n",
    "        atoms = np.array(atoms)\n",
    "        traj.xyz = np.array(atoms)\n",
    "        if j == 0:\n",
    "            trajs = traj\n",
    "        else:\n",
    "            trajs = trajs.join(traj)\n",
    "    trajs.save(f'{file}/save_{i}.pdb')"
   ]
  }
 ],
 "metadata": {
  "interpreter": {
   "hash": "32d86c0ed489c74fa5ec2aa2ccbeedf511e8629c2444e4a2b1035ca2fdc39594"
  },
  "kernelspec": {
   "display_name": "Python 3.7.12 ('yuanqi')",
   "language": "python",
   "name": "python3"
  },
  "language_info": {
   "codemirror_mode": {
    "name": "ipython",
    "version": 3
   },
   "file_extension": ".py",
   "mimetype": "text/x-python",
   "name": "python",
   "nbconvert_exporter": "python",
   "pygments_lexer": "ipython3",
   "version": "3.7.12"
  },
  "orig_nbformat": 4
 },
 "nbformat": 4,
 "nbformat_minor": 2
}
